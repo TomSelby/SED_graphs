{
 "cells": [
  {
   "cell_type": "code",
   "execution_count": null,
   "id": "b88d4cb8-3405-46e1-bda3-384a48feddfb",
   "metadata": {},
   "outputs": [],
   "source": [
    "%matplotlib qt5\n",
    "import os\n",
    "import glob\n",
    "import hyperspy.api as hs\n",
    "import pyxem as pxm\n",
    "import matplotlib.pyplot as plt\n",
    "import h5py as h5\n",
    "import dask.array as da\n",
    "\n",
    "import numpy as np"
   ]
  },
  {
   "cell_type": "code",
   "execution_count": null,
   "id": "09829a17-a16e-497e-9148-75b2f6989277",
   "metadata": {},
   "outputs": [],
   "source": [
    "os.chdir(r\"D:\\dg606\\SED\\Uncalibrated_au_x\")"
   ]
  },
  {
   "cell_type": "code",
   "execution_count": 7,
   "id": "9c76744b-0878-45e9-8bec-6b37cbb8429c",
   "metadata": {},
   "outputs": [
    {
     "name": "stdout",
     "output_type": "stream",
     "text": [
      "[########################################] | 100% Completed | 38.6s\n"
     ]
    }
   ],
   "source": [
    "path = r\"20221130_141255.hspy\"\n",
    "with h5.File(path) as f:\n",
    "    \n",
    "    data = f['Experiments/__unnamed__/data']\n",
    "    \n",
    "    chunks = (30,30,515,515)\n",
    "    x = da.from_array(data, chunks=chunks)\n",
    "    s = hs.signals.Signal2D(x).as_lazy()\n",
    "    s.compute()\n"
   ]
  },
  {
   "cell_type": "code",
   "execution_count": 8,
   "id": "b665097a-020f-4f5a-b316-64df2b0edd30",
   "metadata": {},
   "outputs": [],
   "source": [
    "s.plot()"
   ]
  },
  {
   "cell_type": "code",
   "execution_count": 11,
   "id": "bed39f54-689a-446f-b283-aa3513db992a",
   "metadata": {},
   "outputs": [],
   "source": [
    "summed = s.sum()"
   ]
  },
  {
   "cell_type": "code",
   "execution_count": 13,
   "id": "4ede736a-2f6a-48b7-9db1-68f1270f1bfe",
   "metadata": {},
   "outputs": [],
   "source": [
    "summed.plot(norm='log')"
   ]
  },
  {
   "cell_type": "code",
   "execution_count": null,
   "id": "8771d1fa-66d1-428d-9c41-dc53b45358cb",
   "metadata": {},
   "outputs": [],
   "source": [
    "dirc_list = glob.glob('*.hspy')"
   ]
  },
  {
   "cell_type": "code",
   "execution_count": null,
   "id": "7b959c2e-1dfb-443e-b83e-d72398d6da07",
   "metadata": {},
   "outputs": [
    {
     "name": "stdout",
     "output_type": "stream",
     "text": [
      "20221130_141255.hspy\n",
      "[########################################] | 100% Completed | 50.8s\n"
     ]
    },
    {
     "name": "stdin",
     "output_type": "stream",
     "text": [
      "Overwrite 'D:\\dg606\\SED\\Centered_and_aff_trans_au_x\\20221130_141255.hdf5' (y/n)?\n",
      " y\n"
     ]
    },
    {
     "ename": "NameError",
     "evalue": "name 'gc' is not defined",
     "output_type": "error",
     "traceback": [
      "\u001b[1;31m---------------------------------------------------------------------------\u001b[0m",
      "\u001b[1;31mNameError\u001b[0m                                 Traceback (most recent call last)",
      "Input \u001b[1;32mIn [21]\u001b[0m, in \u001b[0;36m<cell line: 2>\u001b[1;34m()\u001b[0m\n\u001b[0;32m     22\u001b[0m summed \u001b[38;5;241m=\u001b[39m s\u001b[38;5;241m.\u001b[39mT\u001b[38;5;241m.\u001b[39msum()\u001b[38;5;241m.\u001b[39mdata\n\u001b[0;32m     23\u001b[0m np\u001b[38;5;241m.\u001b[39msave(dirc[:\u001b[38;5;241m-\u001b[39m\u001b[38;5;241m5\u001b[39m]\u001b[38;5;241m+\u001b[39m\u001b[38;5;124m'\u001b[39m\u001b[38;5;124m_spi.npy\u001b[39m\u001b[38;5;124m'\u001b[39m,summed)\n\u001b[1;32m---> 24\u001b[0m \u001b[43mgc\u001b[49m\u001b[38;5;241m.\u001b[39mcollect()\n",
      "\u001b[1;31mNameError\u001b[0m: name 'gc' is not defined"
     ]
    }
   ],
   "source": [
    "aff_trans = np.load(r\"D:\\dg606\\SED\\aff_trans.npy\")\n",
    "for dirc in dirc_list:\n",
    "    print(dirc)\n",
    "    os.chdir(r'D:\\dg606\\SED\\Uncalibrated_au_x')\n",
    "    f = h5.File(dirc)           # Load the file\n",
    "    data = f['Experiments/__unnamed__/data']                 # Get the data\n",
    "    chunks = (40,40,515,515)                     # Chunk as appropriate\n",
    "    x = da.from_array(data, chunks=chunks) # Wrap the data in dask\n",
    "    #s = hs.signals.Signal2D(x).as_lazy() # Create the lazy signal\n",
    "    s= pxm.signals.ElectronDiffraction2D(x).as_lazy() #this is needed because of a bug in the code \n",
    "    s.compute()\n",
    "    s.center_direct_beam(method='blur', sigma = 1)\n",
    "    s.apply_affine_transformation(aff_trans,keep_dtype=True, inplace = True)\n",
    "    \n",
    "\n",
    " \n",
    "    os.chdir(r'D:\\dg606\\SED\\Centered_and_aff_trans_au_x')\n",
    "    s.save(dirc[:-5]+'.hdf5',compression='gzip')\n",
    "    summed = s.T.sum().data\n",
    "    np.save(dirc[:-5]+'_spi.npy',summed)\n",
    "    gc.collect()"
   ]
  },
  {
   "cell_type": "code",
   "execution_count": null,
   "id": "6d8841dd-beb9-4c86-a794-058c7f38112b",
   "metadata": {},
   "outputs": [],
   "source": []
  }
 ],
 "metadata": {
  "kernelspec": {
   "display_name": "Python 3 (ipykernel)",
   "language": "python",
   "name": "python3"
  },
  "language_info": {
   "codemirror_mode": {
    "name": "ipython",
    "version": 3
   },
   "file_extension": ".py",
   "mimetype": "text/x-python",
   "name": "python",
   "nbconvert_exporter": "python",
   "pygments_lexer": "ipython3",
   "version": "3.9.12"
  }
 },
 "nbformat": 4,
 "nbformat_minor": 5
}
