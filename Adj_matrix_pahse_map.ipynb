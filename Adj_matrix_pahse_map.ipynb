{
 "cells": [
  {
   "cell_type": "code",
   "execution_count": 194,
   "id": "0c01ec69-f13b-4858-a0a6-70c4d366e696",
   "metadata": {},
   "outputs": [],
   "source": [
    "import py4DSTEM\n",
    "import pyxem as pxm\n",
    "import matplotlib.pyplot as plt\n",
    "import numpy as np\n",
    "import os\n",
    "\n",
    "inv_Ang_per_pixel = 0.01053034801747163\n",
    "\n",
    "\n",
    "def pythag_distance(item):\n",
    "        pythag_d= np.sqrt((item[0]**2)+(item[1]**2))\n",
    "        return pythag_d"
   ]
  },
  {
   "cell_type": "code",
   "execution_count": 3,
   "id": "6be5c133-58f2-40d9-9248-61a91221c672",
   "metadata": {},
   "outputs": [
    {
     "data": {
      "text/plain": [
       "'C:\\\\Users\\\\tas72\\\\Documents\\\\PhD'"
      ]
     },
     "execution_count": 3,
     "metadata": {},
     "output_type": "execute_result"
    }
   ],
   "source": [
    "os.getcwd()"
   ]
  },
  {
   "cell_type": "code",
   "execution_count": 6,
   "id": "8d761a69-1ca5-4e3d-bba8-5a3127781f1f",
   "metadata": {},
   "outputs": [],
   "source": [
    "os.chdir(r'C:\\Users\\tas72\\Documents\\PhD\\dg606\\py4DSTEM_analysis\\20221202_183724')"
   ]
  },
  {
   "cell_type": "code",
   "execution_count": 197,
   "id": "63aa7945-2043-4048-897c-a74dda3658a7",
   "metadata": {},
   "outputs": [
    {
     "name": "stdout",
     "output_type": "stream",
     "text": [
      "C:\\Users\\tas72\\Documents\\PhD\\dg606\\py4DSTEM_analysis\\20221202_183724\\braggdisks_mcc.h5\n",
      "/\n",
      "|--4DSTEM\n",
      "\t|--braggvectors_copy\n",
      "\t\t|--_v_cal\n",
      "\t\t|--_v_uncal\n",
      "\t\t|--calibration\n",
      "\n",
      "\n"
     ]
    }
   ],
   "source": [
    "file_name_braggdisks_masked = r\"C:\\Users\\tas72\\Documents\\PhD\\dg606\\py4DSTEM_analysis\\20221202_183724\\braggdisks_mcc.h5\"\n",
    "print(file_name_braggdisks_masked)\n",
    "py4DSTEM.io.print_h5_tree(file_name_braggdisks_masked)"
   ]
  },
  {
   "cell_type": "code",
   "execution_count": 25,
   "id": "264d1c09-8c5e-4db5-879e-b4c6da61e472",
   "metadata": {},
   "outputs": [
    {
     "name": "stderr",
     "output_type": "stream",
     "text": [
      "Reading PointListArray: 100%|██████████████████████████████████████| 262144/262144 [00:36<00:00, 7114.09PointList/s]\n"
     ]
    }
   ],
   "source": [
    "bragg_peaks = py4DSTEM.read(\n",
    "    'braggdisks_masked.h5', \n",
    "    root = '/4DSTEM/braggvectors_copy'\n",
    ")"
   ]
  },
  {
   "cell_type": "code",
   "execution_count": 107,
   "id": "49ace225-ede4-4843-a23a-0a3b1ea1b824",
   "metadata": {},
   "outputs": [],
   "source": [
    "test = bragg_peaks._v_uncal.get_pointlist(10,19).data"
   ]
  },
  {
   "cell_type": "code",
   "execution_count": 108,
   "id": "e5089bbf-2387-426b-acd7-fde8069daecf",
   "metadata": {},
   "outputs": [
    {
     "data": {
      "text/plain": [
       "array([(127.35842451, 127.36169733, 219.3096099 ),\n",
       "       ( 87.08097826,  95.84948285, 108.50888293),\n",
       "       (147.48085113, 142.70848134,  22.4521331 ),\n",
       "       (129.02753362, 101.38091454,  17.60324477),\n",
       "       (167.95719226, 158.74072983,  13.60640135),\n",
       "       ( 89.76664589,  43.66741156,  12.26337104),\n",
       "       (103.13038679, 189.3298217 ,  10.66786888),\n",
       "       ( 75.60087396, 154.05581492,  10.55528579),\n",
       "       (188.81619599, 147.46023355,   8.98227951),\n",
       "       (244.47846146, 234.03848556,   8.90071787),\n",
       "       (131.34541541,  48.96797595,   8.62722476),\n",
       "       ( 66.02780658, 106.05859234,   7.37318009),\n",
       "       ( 83.51150686, 174.13207804,   7.0976764 ),\n",
       "       ( 62.38125801, 158.30423745,   6.53100316),\n",
       "       (121.19718858, 230.61510768,   6.34857215),\n",
       "       ( 63.84569081, 132.31218259,   5.68604842),\n",
       "       (191.24756651, 122.21360128,   5.52995271),\n",
       "       ( 59.68816396, 209.83453313,   5.46533781),\n",
       "       (186.25107176, 199.77758637,   5.29830653),\n",
       "       (230.63800111, 152.91105804,   5.02083038),\n",
       "       (193.28739698,  70.26951358,   4.8560682 ),\n",
       "       (151.87238698,  64.79522234,   4.81683507),\n",
       "       (107.87830545, 111.92817267,   4.29878742),\n",
       "       ( 85.93886925, 122.55550309,   3.92608845),\n",
       "       ( 67.67567529,  53.0525363 ,   3.71371679),\n",
       "       ( 24.09190578, 101.02660713,   3.6956383 ),\n",
       "       (207.44953629, 189.12111458,   3.47954974),\n",
       "       (111.05403637,  34.10252242,   3.37841425),\n",
       "       ( 67.26894903,  80.89865331,   3.1638038 ),\n",
       "       (130.98762166,  75.34785726,   3.15177113)],\n",
       "      dtype=[('qx', '<f8'), ('qy', '<f8'), ('intensity', '<f8')])"
      ]
     },
     "execution_count": 108,
     "metadata": {},
     "output_type": "execute_result"
    }
   ],
   "source": [
    "test"
   ]
  },
  {
   "cell_type": "code",
   "execution_count": 109,
   "id": "cf446053-9ba6-4438-91f1-286402fe9231",
   "metadata": {},
   "outputs": [
    {
     "name": "stdout",
     "output_type": "stream",
     "text": [
      "0 1 2 3 4 5 6 7 8 9 10 11 12 13 14 15 16 17 18 19 20 21 22 23 24 25 26 27 28 29 30 31 32 33 34 35 36 37 38 39 40 41 42 43 44 45 46 47 48 49 50 51 52 53 54 55 56 57 58 59 60 61 62 63 64 65 66 67 68 69 70 71 72 73 74 75 76 77 78 79 80 81 82 83 84 85 86 87 88 89 90 91 92 93 94 95 96 97 98 99 100 101 102 103 104 105 106 107 108 109 110 111 112 113 114 115 116 117 118 119 120 121 122 123 124 125 126 127 128 129 130 131 132 133 134 135 136 137 138 139 140 141 142 143 144 145 146 147 148 149 150 151 152 153 154 155 156 157 158 159 160 161 162 163 164 165 166 167 168 169 170 171 172 173 174 175 176 177 178 179 180 181 182 183 184 185 186 187 188 189 190 191 192 193 194 195 196 197 198 199 200 201 202 203 204 205 206 207 208 209 210 211 212 213 214 215 216 217 218 219 220 221 222 223 224 225 226 227 228 229 230 231 232 233 234 235 236 237 238 239 240 241 242 243 244 245 246 247 248 249 250 251 252 253 254 255 256 257 258 259 260 261 262 263 264 265 266 267 268 269 270 271 272 273 274 275 276 277 278 279 280 281 282 283 284 285 286 287 288 289 290 291 292 293 294 295 296 297 298 299 300 301 302 303 304 305 306 307 308 309 310 311 312 313 314 315 316 317 318 319 320 321 322 323 324 325 326 327 328 329 330 331 332 333 334 335 336 337 338 339 340 341 342 343 344 345 346 347 348 349 350 351 352 353 354 355 356 357 358 359 360 361 362 363 364 365 366 367 368 369 370 371 372 373 374 375 376 377 378 379 380 381 382 383 384 385 386 387 388 389 390 391 392 393 394 395 396 397 398 399 400 401 402 403 404 405 406 407 408 409 410 411 412 413 414 415 416 417 418 419 420 421 422 423 424 425 426 427 428 429 430 431 432 433 434 435 436 437 438 439 440 441 442 443 444 445 446 447 448 449 450 451 452 453 454 455 456 457 458 459 460 461 462 463 464 465 466 467 468 469 470 471 472 473 474 475 476 477 478 479 480 481 482 483 484 485 486 487 488 489 490 491 492 493 494 495 496 497 498 499 500 501 502 503 504 505 506 507 508 509 510 511 "
     ]
    }
   ],
   "source": [
    "bragg_peaks_calibrated = np.zeros((bragg_peaks.shape[0],bragg_peaks.shape[1]),dtype='object')\n",
    "for i in range(bragg_peaks.shape[0]):\n",
    "    print(i, end=' ')\n",
    "    for j in range(bragg_peaks.shape[1]):\n",
    "        brag_peaks_oi = bragg_peaks._v_uncal.get_pointlist(i,j).data\n",
    "        calibrated_peaks = np.zeros_like(brag_peaks_oi) #currently peaks are in pixels and 0,0 is not at the center\n",
    "        for k in range(len(brag_peaks_oi)):\n",
    "            peak = brag_peaks_oi[k]\n",
    "            x_coord = peak[0]\n",
    "            y_coord = peak[1]\n",
    "            x_coord = x_coord-128\n",
    "            y_coord = y_coord-128\n",
    "            x_coord = x_coord*inv_Ang_per_pixel\n",
    "            y_coord = y_coord*inv_Ang_per_pixel\n",
    "            calibrated_peaks[k][0] = x_coord\n",
    "            calibrated_peaks[k][1] = y_coord\n",
    "            calibrated_peaks[k][2] = peak[2]\n",
    "            \n",
    "        bragg_peaks_calibrated[i,j] = calibrated_peaks"
   ]
  },
  {
   "cell_type": "code",
   "execution_count": 110,
   "id": "6af7d6a3-99ac-401d-bb9d-6324186d504e",
   "metadata": {},
   "outputs": [
    {
     "data": {
      "text/plain": [
       "array([(-0.00675601, -0.00672155, 219.3096099 ),\n",
       "       (-0.43089154, -0.33855613, 108.50888293),\n",
       "       ( 0.20514014,  0.15488543,  22.4521331 ),\n",
       "       ( 0.01082029, -0.28030823,  17.60324477),\n",
       "       ( 0.42076314,  0.32371058,  13.60640135),\n",
       "       (-0.40261052, -0.88805151,  12.26337104),\n",
       "       (-0.26188568,  0.64582437,  10.66786888),\n",
       "       (-0.55178103,  0.2743768 ,  10.55528579),\n",
       "       ( 0.64041571,  0.20492303,   8.98227951),\n",
       "       ( 1.22655874,  1.11662216,   8.90071787),\n",
       "       ( 0.03522839, -0.83223472,   8.62722476),\n",
       "       (-0.65258876, -0.23105066,   7.37318009),\n",
       "       (-0.46847932,  0.48578684,   7.0976764 ),\n",
       "       (-0.69098819,  0.31911417,   6.53100316),\n",
       "       (-0.07163597,  1.0805728 ,   6.34857215),\n",
       "       (-0.6755672 ,  0.04540878,   5.68604842),\n",
       "       ( 0.66601889, -0.06093279,   5.52995271),\n",
       "       (-0.71934741,  0.86174611,   5.46533781),\n",
       "       ( 0.61340406,  0.75584296,   5.29830653),\n",
       "       ( 1.08081387,  0.26232211,   5.02083038),\n",
       "       ( 0.68749901, -0.60792211,   4.8560682 ),\n",
       "       ( 0.25138454, -0.66556831,   4.81683507),\n",
       "       (-0.21188845, -0.16924194,   4.29878742),\n",
       "       (-0.44291834, -0.05733245,   3.92608845),\n",
       "       (-0.63523613, -0.78922288,   3.71371679),\n",
       "       (-1.09418839, -0.28403921,   3.6956383 ),\n",
       "       ( 0.83663127,  0.64362661,   3.47954974),\n",
       "       (-0.17844689, -0.98877312,   3.37841425),\n",
       "       (-0.6395191 , -0.49599357,   3.1638038 ),\n",
       "       ( 0.0314607 , -0.55444539,   3.15177113)],\n",
       "      dtype=[('qx', '<f8'), ('qy', '<f8'), ('intensity', '<f8')])"
      ]
     },
     "execution_count": 110,
     "metadata": {},
     "output_type": "execute_result"
    }
   ],
   "source": [
    "bragg_peaks_calibrated[10,19]"
   ]
  },
  {
   "cell_type": "code",
   "execution_count": 119,
   "id": "cd73c426-7f35-4862-aef5-59a6f7d5e590",
   "metadata": {},
   "outputs": [
    {
     "name": "stdout",
     "output_type": "stream",
     "text": [
      "0 1 2 3 4 5 6 7 8 9 10 11 12 13 14 15 16 17 18 19 20 21 22 23 24 25 26 27 28 29 30 31 32 33 34 35 36 37 38 39 40 41 42 43 44 45 46 47 48 49 50 51 52 53 54 55 56 57 58 59 60 61 62 63 64 65 66 67 68 69 70 71 72 73 74 75 76 77 78 79 80 81 82 83 84 85 86 87 88 89 90 91 92 93 94 95 96 97 98 99 100 101 102 103 104 105 106 107 108 109 110 111 112 113 114 115 116 117 118 119 120 121 122 123 124 125 126 127 128 129 130 131 132 133 134 135 136 137 138 139 140 141 142 143 144 145 146 147 148 149 150 151 152 153 154 155 156 157 158 159 160 161 162 163 164 165 166 167 168 169 170 171 172 173 174 175 176 177 178 179 180 181 182 183 184 185 186 187 188 189 190 191 192 193 194 195 196 197 198 199 200 201 202 203 204 205 206 207 208 209 210 211 212 213 214 215 216 217 218 219 220 221 222 223 224 225 226 227 228 229 230 231 232 233 234 235 236 237 238 239 240 241 242 243 244 245 246 247 248 249 250 251 252 253 254 255 256 257 258 259 260 261 262 263 264 265 266 267 268 269 270 271 272 273 274 275 276 277 278 279 280 281 282 283 284 285 286 287 288 289 290 291 292 293 294 295 296 297 298 299 300 301 302 303 304 305 306 307 308 309 310 311 312 313 314 315 316 317 318 319 320 321 322 323 324 325 326 327 328 329 330 331 332 333 334 335 336 337 338 339 340 341 342 343 344 345 346 347 348 349 350 351 352 353 354 355 356 357 358 359 360 361 362 363 364 365 366 367 368 369 370 371 372 373 374 375 376 377 378 379 380 381 382 383 384 385 386 387 388 389 390 391 392 393 394 395 396 397 398 399 400 401 402 403 404 405 406 407 408 409 410 411 412 413 414 415 416 417 418 419 420 421 422 423 424 425 426 427 428 429 430 431 432 433 434 435 436 437 438 439 440 441 442 443 444 445 446 447 448 449 450 451 452 453 454 455 456 457 458 459 460 461 462 463 464 465 466 467 468 469 470 471 472 473 474 475 476 477 478 479 480 481 482 483 484 485 486 487 488 489 490 491 492 493 494 495 496 497 498 499 500 501 502 503 504 505 506 507 508 509 510 511 "
     ]
    }
   ],
   "source": [
    "peaks_sorted = np.zeros_like(bragg_peaks_calibrated,dtype='object')\n",
    "lengths_sorted = np.zeros_like(bragg_peaks_calibrated,dtype='object')\n",
    "for i in range(np.shape(bragg_peaks_calibrated)[0]):\n",
    "    print(i, end=' ')\n",
    "    for j in range(np.shape(bragg_peaks_calibrated)[1]):\n",
    "        nav_axis_oi = bragg_peaks_calibrated[i,j]\n",
    "        lengths = np.zeros(len(nav_axis_oi))\n",
    "        for k in range(len(lengths)):\n",
    "            x,y = nav_axis_oi[k][0],nav_axis_oi[k][1]\n",
    "            lengths[k] = pythag_distance((x,y))\n",
    "        #np.argsort(lengths)\n",
    "        sorted_data = np.zeros_like(nav_axis_oi)\n",
    "        sorted_lengths = np.zeros_like(lengths)\n",
    "        p=0\n",
    "        for ind in np.argsort(lengths):\n",
    "            sorted_data[p] = nav_axis_oi[ind]\n",
    "            sorted_lengths[p] = lengths[ind]  \n",
    "            p+=1\n",
    "        peaks_sorted[i,j] = sorted_data\n",
    "        lengths_sorted[i,j] = sorted_lengths"
   ]
  },
  {
   "cell_type": "markdown",
   "id": "58d36911-fe10-4ccc-9955-7ddac628fc87",
   "metadata": {},
   "source": [
    "Now make adjacency matrix"
   ]
  },
  {
   "cell_type": "code",
   "execution_count": 150,
   "id": "13a6c089-8117-4959-b5ef-564b6f83b0f7",
   "metadata": {},
   "outputs": [
    {
     "name": "stdout",
     "output_type": "stream",
     "text": [
      "[[1]]\n",
      "[[1], [2]]\n",
      "[[1], [2], [5]]\n",
      "[[1], [2], [5], [5]]\n",
      "[[1], [2], [5], [5], [5]]\n",
      "[[1], [2], [5], [5], [5], [6]]\n",
      "[[1], [2], [5], [5], [5], [6], [7]]\n",
      "[[1], [2], [5], [5], [5], [6], [7], [8]]\n",
      "[[1], [2], [5], [5], [5], [6], [7], [8], [10]]\n",
      "[[1], [2], [5], [5], [5], [6], [7], [8], [10], [10]]\n",
      "[[1], [2], [5], [5], [5], [6], [7], [8], [10], [10], [11]]\n",
      "[[1], [2], [5], [5], [5], [6], [7], [8], [10], [10], [11], [12]]\n",
      "[[1], [2], [5], [5], [5], [6], [7], [8], [10], [10], [11], [12], [14]]\n",
      "[[1], [2], [5], [5], [5], [6], [7], [8], [10], [10], [11], [12], [14], [15]]\n",
      "[[1], [2], [5], [5], [5], [6], [7], [8], [10], [10], [11], [12], [14], [15], [15]]\n",
      "[[1], [2], [5], [5], [5], [6], [7], [8], [10], [10], [11], [12], [14], [15], [15], [17]]\n",
      "[[1], [2], [5], [5], [5], [6], [7], [8], [10], [10], [11], [12], [14], [15], [15], [17], [17]]\n",
      "[[1], [2], [5], [5], [5], [6], [7], [8], [10], [10], [11], [12], [14], [15], [15], [17], [17], [18]]\n",
      "[[1], [2], [5], [5], [5], [6], [7], [8], [10], [10], [11], [12], [14], [15], [15], [17], [17], [18], [20]]\n",
      "[[1], [2], [5], [5], [5], [6], [7], [8], [10], [10], [11], [12], [14], [15], [15], [17], [17], [18], [20], [20]]\n",
      "[[1], [2], [5], [5], [5], [6], [7], [8], [10], [10], [11], [12], [14], [15], [15], [17], [17], [18], [20], [20], [21]]\n",
      "[[1], [2], [5], [5], [5], [6], [7], [8], [10], [10], [11], [12], [14], [15], [15], [17], [17], [18], [20], [20], [21], [22]]\n",
      "[[1], [2], [5], [5], [5], [6], [7], [8], [10], [10], [11], [12], [14], [15], [15], [17], [17], [18], [20], [20], [21], [22], [23]]\n"
     ]
    }
   ],
   "source": [
    "test = lengths_sorted[0,10]\n",
    "groups = []\n",
    "for i in range(len(test)-1):\n",
    "\n",
    "        point = test[i]\n",
    "        arg = np.argwhere(test>point+0.01)\n",
    "        groups.append([np.amin(arg)])\n",
    "        print(groups)\n",
    "    \n",
    "groups = np.unique(groups)\n",
    "groups = np.insert(groups,0,0)"
   ]
  },
  {
   "cell_type": "code",
   "execution_count": 173,
   "id": "d4b02852-6d5b-4f1d-9833-322c34d406c5",
   "metadata": {},
   "outputs": [],
   "source": [
    "points_oi = peaks_sorted[0,10]\n",
    "lengths_oi = lengths_sorted[0,10]"
   ]
  },
  {
   "cell_type": "code",
   "execution_count": 186,
   "id": "43ceb9a3-a52f-45ed-b732-0e71950fcb27",
   "metadata": {},
   "outputs": [
    {
     "name": "stdout",
     "output_type": "stream",
     "text": [
      "23\n",
      "24\n",
      "22\n",
      "[(1.2357897, 1.13470105, 8.89844297)]\n",
      "[1.67771351]\n",
      "[(0.81104322, 0.83697151, 3.80510332)]\n",
      "Pythag_d: 0.518702659171254\n",
      "22\n",
      "23\n",
      "21\n",
      "[(0.81104322, 0.83697151, 3.80510332)]\n",
      "[1.16546661]\n",
      "[(-0.17294749, -0.99061189, 11.58918937)]\n",
      "Pythag_d: 2.0756441841563658\n",
      "21\n",
      "22\n",
      "20\n",
      "[(-0.17294749, -0.99061189, 11.58918937)]\n",
      "[1.00559572]\n",
      "[(-0.40145383, -0.88062549, 9.44272054)]\n",
      "Pythag_d: 0.2535984145849989\n",
      "20\n",
      "21\n",
      "18\n",
      "[(-0.40145383, -0.88062549, 9.44272054)]\n",
      "[0.96781529]\n",
      "[(-0.64394462, -0.5050962 , 3.35075535)\n",
      " ( 0.03844384, -0.82675511, 9.07786864)]\n",
      "Pythag_d: 0.4470168100074173\n",
      "Pythag_d: 0.4431839065946718\n",
      "18\n",
      "20\n",
      "17\n",
      "[(-0.64394462, -0.5050962 , 3.35075535)\n",
      " ( 0.03844384, -0.82675511, 9.07786864)]\n",
      "[0.81840506 0.82764844]\n",
      "[(0.41571561, 0.60733555, 3.12950656)]\n",
      "Pythag_d: 1.4828857043034267\n",
      "17\n",
      "18\n",
      "15\n",
      "[(0.41571561, 0.60733555, 3.12950656)]\n",
      "[0.73598637]\n",
      "[( 0.25019149, -0.65459566, 19.31510954)\n",
      " (-0.2624029 ,  0.65662905, 21.88309058)]\n",
      "Pythag_d: 1.2727405883682308\n",
      "Pythag_d: 0.679907762313882\n",
      "15\n",
      "17\n",
      "14\n",
      "[( 0.25019149, -0.65459566, 19.31510954)\n",
      " (-0.2624029 ,  0.65662905, 21.88309058)]\n",
      "[0.70077904 0.7071188 ]\n",
      "[(0.64659178, 0.21862791, 8.96335804)]\n",
      "Pythag_d: 1.0090175026627415\n",
      "14\n",
      "15\n",
      "12\n",
      "[(0.64659178, 0.21862791, 8.96335804)]\n",
      "[0.68255336]\n",
      "[( 0.45871849, -0.48698488, 7.47808537)\n",
      " (-0.6768144 ,  0.04765883, 4.27288369)]\n",
      "Pythag_d: 0.7301957155530674\n",
      "Pythag_d: 1.3344041107903692\n",
      "12\n",
      "14\n",
      "11\n",
      "[( 0.45871849, -0.48698488, 7.47808537)\n",
      " (-0.6768144 ,  0.04765883, 4.27288369)]\n",
      "[0.66901191 0.67849031]\n",
      "[(-0.56113263, 0.30029252, 10.43352733)]\n",
      "Pythag_d: 1.2883718506106185\n",
      "11\n",
      "12\n",
      "10\n",
      "[(-0.56113263, 0.30029252, 10.43352733)]\n",
      "[0.6364318]\n",
      "[(-0.03367536, 0.55474656, 5.5598879)]\n",
      "Pythag_d: 0.5856261938571354\n",
      "10\n",
      "11\n",
      "8\n",
      "[(-0.03367536, 0.55474656, 5.5598879)]\n",
      "[0.55576774]\n",
      "[(-0.42882039, -0.32901769, 90.39171865)\n",
      " ( 0.02880984, -0.54171755,  4.23679761)]\n",
      "Pythag_d: 0.9680799832962618\n",
      "Pythag_d: 1.0982431174020442\n",
      "8\n",
      "10\n",
      "7\n",
      "[(-0.42882039, -0.32901769, 90.39171865)\n",
      " ( 0.02880984, -0.54171755,  4.23679761)]\n",
      "[0.54049937 0.54248309]\n",
      "[(0.41320349, 0.32463634, 2.93495097)]\n",
      "Pythag_d: 1.0659586317280192\n",
      "7\n",
      "8\n",
      "6\n",
      "[(0.41320349, 0.32463634, 2.93495097)]\n",
      "[0.52547681]\n",
      "[(-0.27520579, 0.39548842, 4.11329107)]\n",
      "Pythag_d: 0.6920457761874191\n",
      "6\n",
      "7\n",
      "5\n",
      "[(-0.27520579, 0.39548842, 4.11329107)]\n",
      "[0.48181876]\n",
      "[(-0.43710085, -0.06315321, 6.25295527)]\n",
      "Pythag_d: 0.4863765529833573\n",
      "5\n",
      "6\n",
      "2\n",
      "[(-0.43710085, -0.06315321, 6.25295527)]\n",
      "[0.44163954]\n",
      "[(-0.21724945, -0.16600355,  8.05686439)\n",
      " (-0.2438064 ,  0.12633157,  3.67628115)\n",
      " ( 0.00719598, -0.2758789 , 22.02140833)]\n",
      "Pythag_d: 0.24271966283299956\n",
      "Pythag_d: 0.27067919553112424\n",
      "Pythag_d: 0.4925970970069325\n",
      "2\n",
      "5\n",
      "1\n",
      "[(-0.21724945, -0.16600355,  8.05686439)\n",
      " (-0.2438064 ,  0.12633157,  3.67628115)\n",
      " ( 0.00719598, -0.2758789 , 22.02140833)]\n",
      "[0.2734127  0.27459283 0.27597274]\n",
      "[(0.20435314, 0.15945975, 8.63858632)]\n",
      "Pythag_d: 0.5326115928928482\n",
      "1\n",
      "2\n",
      "0\n",
      "[(0.20435314, 0.15945975, 8.63858632)]\n",
      "[0.25920575]\n",
      "[(-0.00430394, 0.00165294, 206.68723684)]\n",
      "Pythag_d: 0.2616118675954779\n"
     ]
    }
   ],
   "source": [
    "adj_matrix_points_list = []\n",
    "\n",
    "for i in range(len(groups)):\n",
    "    if i == 0: # -0 is still 0\n",
    "        continue\n",
    "        \n",
    "    group_start = groups[-i]    \n",
    "    group_end = groups[(-i+1)] # the end group is where the group goes until    \n",
    "    start_of_group_below = groups[-i-1]\n",
    "    \n",
    "    \n",
    "    if group_end == 0: # put a catch for the end group\n",
    "        group_end = len(lengths_sorted[0,10])\n",
    "        \n",
    "   \n",
    "    lengths_oi = lengths_sorted[0,10][group_start:group_end]\n",
    "    points_oi = peaks_sorted[0,10][group_start:group_end]\n",
    "    \n",
    "    \n",
    "    \n",
    "    \n",
    "    points_oi_group_below = peaks_sorted[0,10][start_of_group_below:group_start]\n",
    "    \n",
    "  \n",
    "    if i == 1: # If on first round define a random start\n",
    "        poi = points_oi[0]\n",
    "        loi = lengths_oi[0]\n",
    "        \n",
    "        \n",
    "    \n",
    "    complete_pythag_d = []\n",
    "    \n",
    "    for j in range(len(points_oi_group_below)):\n",
    "        x_below = points_oi_group_below[j][0]\n",
    "        y_below = points_oi_group_below[j][1]\n",
    "        pd = pythag_distance((poi[0]-x_below, poi[1]-y_below))\n",
    "        print('Pythag_d:', pd)\n",
    "        complete_pythag_d.append(pd)\n",
    "    \n",
    "    where_possible_points_for_next_round = np.where(np.round(complete_pythag_d,4) == np.round(np.amin(complete_pythag_d),4))\n",
    "    \n",
    "    \n",
    "    \n",
    "    \n",
    "    if i == 1: # Dont have a previous point in the last round\n",
    "        adj_matrix_points_list.append(poi)\n",
    "        adj_matrix_points_list.append(points_oi_group_below[where_possible_points_for_next_round[0][0]])\n",
    "        previous_poi = poi\n",
    "        poi =  points_oi_group_below[where_possible_points_for_next_round[0][0]]\n",
    "        \n",
    "    else: # If at the first point shouldn't matter which \n",
    "           \n",
    "        ## Want the point which is closest to the previous point\n",
    "        distance_from_prior_point = []\n",
    "\n",
    "        for j in range(len(where_possible_points_for_next_round[0])):\n",
    "            x_below = points_oi_group_below[where_possible_points_for_next_round[0][j]][0]\n",
    "            y_below = points_oi_group_below[where_possible_points_for_next_round[0][j]][1]\n",
    "            pd = pythag_distance((previous_poi[0]-x_below, previous_poi[1]-y_below))\n",
    "            distance_from_prior_point.append(pd)\n",
    "            \n",
    "        ## Make the previous_poi the current one from this round\n",
    "        adj_matrix_points_list.append(points_oi_group_below[where_possible_points_for_next_round[0][0]])\n",
    "\n",
    "        previous_poi = poi\n",
    "        ## Make the new poi the one that has the minimum distance from the previous one\n",
    "        poi = points_oi_group_below[where_possible_points_for_next_round[0][np.argmin(distance_from_prior_point)]]"
   ]
  },
  {
   "cell_type": "code",
   "execution_count": 187,
   "id": "f7f91d38-a1a6-4c0d-a0d2-82315fe5775c",
   "metadata": {},
   "outputs": [
    {
     "data": {
      "text/plain": [
       "[(1.2357897, 1.13470105, 8.89844297),\n",
       " (0.81104322, 0.83697151, 3.80510332),\n",
       " (-0.17294749, -0.99061189, 11.58918937),\n",
       " (-0.40145383, -0.88062549, 9.44272054),\n",
       " (0.03844384, -0.82675511, 9.07786864),\n",
       " (0.41571561, 0.60733555, 3.12950656),\n",
       " (-0.2624029, 0.65662905, 21.88309058),\n",
       " (0.64659178, 0.21862791, 8.96335804),\n",
       " (0.45871849, -0.48698488, 7.47808537),\n",
       " (-0.56113263, 0.30029252, 10.43352733),\n",
       " (-0.03367536, 0.55474656, 5.5598879),\n",
       " (-0.42882039, -0.32901769, 90.39171865),\n",
       " (0.41320349, 0.32463634, 2.93495097),\n",
       " (-0.27520579, 0.39548842, 4.11329107),\n",
       " (-0.43710085, -0.06315321, 6.25295527),\n",
       " (-0.21724945, -0.16600355, 8.05686439),\n",
       " (0.20435314, 0.15945975, 8.63858632),\n",
       " (-0.00430394, 0.00165294, 206.68723684)]"
      ]
     },
     "execution_count": 187,
     "metadata": {},
     "output_type": "execute_result"
    }
   ],
   "source": [
    "adj_matrix_points_list"
   ]
  },
  {
   "cell_type": "code",
   "execution_count": 188,
   "id": "8dc3075d-3cde-4049-89a7-5adeb0a153ab",
   "metadata": {},
   "outputs": [],
   "source": [
    "adj_matrix = np.zeros((len(adj_matrix_points_list),len(adj_matrix_points_list)))\n",
    "\n",
    "\n",
    "for i in range(np.shape(adj_matrix_points_list)[0]):\n",
    "    current_poi = np.flip(adj_matrix_points_list)[i]\n",
    "    other_points = [x for x in range(np.shape(adj_matrix_points_list)[0])]\n",
    "    other_points.remove(i)\n",
    "    \n",
    "    for j in range(len(other_points)):\n",
    "        other_point = np.flip(adj_matrix_points_list)[other_points[j]]\n",
    "        pd = pythag_distance((current_poi[0]-other_point[0], current_poi[1]-other_point[1]))\n",
    "        adj_matrix[i,other_points[j]] = pd\n",
    "        \n"
   ]
  },
  {
   "cell_type": "code",
   "execution_count": 195,
   "id": "df16027e-87a2-4940-8232-c0d2c752d348",
   "metadata": {},
   "outputs": [
    {
     "data": {
      "text/plain": [
       "<matplotlib.image.AxesImage at 0x2afd3c68f10>"
      ]
     },
     "execution_count": 195,
     "metadata": {},
     "output_type": "execute_result"
    },
    {
     "data": {
      "image/png": "[encoded data removed]",
      "text/plain": [
       "<Figure size 640x480 with 1 Axes>"
      ]
     },
     "metadata": {},
     "output_type": "display_data"
    }
   ],
   "source": [
    "fig,ax = plt.subplots()\n",
    "ax.imshow(adj_matrix)\n"
   ]
  },
  {
   "cell_type": "code",
   "execution_count": 196,
   "id": "882a8845-b8f4-440a-8eba-8f898520b747",
   "metadata": {},
   "outputs": [
    {
     "data": {
      "text/plain": [
       "0.0"
      ]
     },
     "execution_count": 196,
     "metadata": {},
     "output_type": "execute_result"
    }
   ],
   "source": [
    "np.amin(adj_matrix)"
   ]
  },
  {
   "cell_type": "code",
   "execution_count": null,
   "id": "194f4336-4f0b-41e2-8ca2-9ed5e432fcd4",
   "metadata": {},
   "outputs": [],
   "source": []
  }
 ],
 "metadata": {
  "kernelspec": {
   "display_name": "Python 3 (ipykernel)",
   "language": "python",
   "name": "python3"
  },
  "language_info": {
   "codemirror_mode": {
    "name": "ipython",
    "version": 3
   },
   "file_extension": ".py",
   "mimetype": "text/x-python",
   "name": "python",
   "nbconvert_exporter": "python",
   "pygments_lexer": "ipython3",
   "version": "3.10.9"
  }
 },
 "nbformat": 4,
 "nbformat_minor": 5
}
